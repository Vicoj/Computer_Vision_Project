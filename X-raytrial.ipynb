{
 "cells": [
  {
   "cell_type": "code",
   "execution_count": null,
   "id": "dfb2d106",
   "metadata": {},
   "outputs": [],
   "source": [
    "import skimage\n",
    "print(skimage.__version__)\n",
    "import numpy as np\n",
    "from PIL import Image, ImageFont, ImageDraw\n",
    "from PIL.ImageChops import add, subtract, multiply, difference, screen\n",
    "import PIL.ImageStat as stat\n",
    "from skimage.io import imread, imsave, imshow, show, imread_collection, imshow_collection\n",
    "from skimage import color, viewer, exposure, img_as_float, data\n",
    "from skimage.transform import SimilarityTransform, warp, swirl\n",
    "from skimage.util import invert, random_noise, montage\n",
    "import matplotlib.image as mpimg\n",
    "import matplotlib.pylab as plt\n",
    "from scipy.ndimage import affine_transform, zoom\n",
    "from scipy import misc\n",
    "import cv2"
   ]
  },
  {
   "cell_type": "code",
   "execution_count": null,
   "id": "eb0982c5",
   "metadata": {},
   "outputs": [],
   "source": [
    "img = cv2.imread(\"images/img1.tiff\")\n",
    "plt.imshow(img)\n",
    "plt.show()\n",
    "height, width, channels = img.shape\n",
    "print(width,height)\n",
    "def getSlice(img,bin):\n",
    "    result = []\n",
    "    height, width, channels = img.shape\n",
    "    for y in range(0,height,10):\n",
    "        for x in range(0,width):\n",
    "            if img[y,x][0]<bin[1] and img[y,x][0]>bin[0]:\n",
    "                result.append(img[y,x])\n",
    "            else :\n",
    "                result.append([0,0,0])\n",
    "    return result\n",
    "            \n",
    "            \n",
    "#print(getSlice(img,[0,255])) \n",
    "plt.imshow(getSlice(img,[0,255])))\n",
    "\"\"\"fimg = []\n",
    "img = mpimg.imread('document.jpg')\n",
    "for y in range(0,2100,1):\n",
    "    y_list=[]\n",
    "    for x in range(0,2900,1):\n",
    "        Ximg = M @ [[x],[y],[1]]\n",
    "        xp = Ximg[0,0]//Ximg[2,0]\n",
    "        yp=Ximg[1,0]//Ximg[2,0]\n",
    "        try:\n",
    "            y_list.append(img[int(yp)][int(xp)])\n",
    "        except:\n",
    "            y_list.append([0,0,0])\n",
    "    fimg.append(y_list\"\"\""
   ]
  },
  {
   "cell_type": "code",
   "execution_count": null,
   "id": "97a37798",
   "metadata": {},
   "outputs": [],
   "source": []
  }
 ],
 "metadata": {
  "kernelspec": {
   "display_name": "Python 3 (ipykernel)",
   "language": "python",
   "name": "python3"
  },
  "language_info": {
   "codemirror_mode": {
    "name": "ipython",
    "version": 3
   },
   "file_extension": ".py",
   "mimetype": "text/x-python",
   "name": "python",
   "nbconvert_exporter": "python",
   "pygments_lexer": "ipython3",
   "version": "3.7.9"
  }
 },
 "nbformat": 4,
 "nbformat_minor": 5
}
